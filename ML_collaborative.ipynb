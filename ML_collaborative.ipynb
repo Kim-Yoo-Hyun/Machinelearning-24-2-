{
 "cells": [
  {
   "cell_type": "code",
   "execution_count": 13,
   "metadata": {
    "id": "h-tZ-aMUzxs3"
   },
   "outputs": [],
   "source": [
    "# Import necessary libraries\n",
    "import pandas as pd\n",
    "import numpy as np\n",
    "from sklearn.metrics import mean_squared_error, mean_absolute_error\n",
    "from sklearn.neighbors import NearestNeighbors\n",
    "from sklearn.decomposition import TruncatedSVD, NMF as SklearnNMF\n",
    "from sklearn.preprocessing import Normalizer\n",
    "from surprise import SVD, Dataset, Reader\n",
    "from surprise import KNNBasic, NMF as SurpriseNMF\n",
    "from surprise.model_selection import cross_validate"
   ]
  },
  {
   "cell_type": "code",
   "execution_count": 14,
   "metadata": {
    "colab": {
     "base_uri": "https://localhost:8080/"
    },
    "id": "_3cBS9Czz0Ff",
    "outputId": "86e7adec-aefc-459c-fd56-8b7c0d9729f2"
   },
   "outputs": [
    {
     "name": "stdout",
     "output_type": "stream",
     "text": [
      "Drive already mounted at /content/drive; to attempt to forcibly remount, call drive.mount(\"/content/drive\", force_remount=True).\n"
     ]
    }
   ],
   "source": [
    "# 1. Load and preprocess data\n",
    "drive.mount('/content/drive')\n",
    "ratings = pd.read_csv('/content/drive/MyDrive/ratings_small.csv')\n",
    "movies = pd.read_csv('/content/drive/MyDrive/tmdb_5000_movies.csv')\n",
    "movies.rename(columns={'id': 'movieId'}, inplace=True)\n",
    "ratings_movies = pd.merge(ratings, movies[['movieId', 'title']], on='movieId')\n",
    "data = ratings_movies.pivot_table('rating', index='userId', columns='title').fillna(0)"
   ]
  },
  {
   "cell_type": "code",
   "execution_count": 15,
   "metadata": {
    "id": "960T9a44z3dK"
   },
   "outputs": [],
   "source": [
    "# 2. SVD-based recommendation function (modified to output only movie titles)\n",
    "def svd_recommendations(user_id, ratings_df, movies_df, top_n=10):\n",
    "    reader = Reader(rating_scale=(0.5, 5))\n",
    "    data = Dataset.load_from_df(ratings_df[['userId', 'movieId', 'rating']], reader)\n",
    "    svd = SVD()\n",
    "    trainset = data.build_full_trainset()\n",
    "    svd.fit(trainset)\n",
    "\n",
    "    # Generate predictions for all movies the user hasn't rated yet\n",
    "    user_ratings = []\n",
    "    for movie_id in ratings_df['movieId'].unique():\n",
    "        pred = svd.predict(user_id, movie_id)\n",
    "        user_ratings.append((movie_id, pred.est))\n",
    "\n",
    "    # Sort movies by predicted rating in descending order and select the top_n recommendations\n",
    "    user_ratings.sort(key=lambda x: x[1], reverse=True)\n",
    "    top_movie_predictions = user_ratings[:top_n]\n",
    "\n",
    "    # Extract only the movie titles\n",
    "    recommended_titles = [\n",
    "        movies_df[movies_df['movieId'] == movie_id]['title'].values[0]\n",
    "        for movie_id, rating in top_movie_predictions\n",
    "        if not movies_df[movies_df['movieId'] == movie_id].empty\n",
    "    ]\n",
    "\n",
    "    return recommended_titles"
   ]
  },
  {
   "cell_type": "code",
   "execution_count": 16,
   "metadata": {
    "id": "bDa7X9D8z6a9"
   },
   "outputs": [],
   "source": [
    "# 3. KNN-based recommendation function\n",
    "user_movie_matrix = ratings.pivot_table(index='userId', columns='movieId', values='rating').fillna(0)\n",
    "knn = NearestNeighbors(n_neighbors=6, algorithm='auto')\n",
    "knn.fit(user_movie_matrix.T)\n",
    "\n",
    "def knn_recommendations(movie_id, user_movie_matrix, movies_df, num_recommendations=5):\n",
    "    knn = NearestNeighbors(n_neighbors=num_recommendations+1, algorithm='auto')\n",
    "    knn.fit(user_movie_matrix.T)\n",
    "    movie_idx = user_movie_matrix.columns.get_loc(movie_id)\n",
    "    distances, indices = knn.kneighbors(user_movie_matrix.iloc[:, movie_idx].values.reshape(1, -1), n_neighbors=num_recommendations+1)\n",
    "    recommended_movie_ids = user_movie_matrix.columns[indices.flatten()][1:]\n",
    "    recommended_titles = movies_df[movies_df['movieId'].isin(recommended_movie_ids)]['title'].values\n",
    "\n",
    "    return recommended_titles\n"
   ]
  },
  {
   "cell_type": "code",
   "execution_count": 17,
   "metadata": {
    "id": "pkgudsyUz950"
   },
   "outputs": [],
   "source": [
    "# 4. NMF-based recommendation function\n",
    "sklearn_nmf = SklearnNMF(n_components=20, init='random', random_state=42)\n",
    "nmf_matrix = sklearn_nmf.fit_transform(user_movie_matrix)\n",
    "nmf_matrix_normalized = Normalizer().fit_transform(nmf_matrix)\n",
    "\n",
    "def nmf_recommendations(movie_id, user_movie_matrix, movies_df, num_recommendations=5):\n",
    "    # Normalize the NMF matrix\n",
    "    nmf_matrix_normalized = Normalizer().fit_transform(sklearn_nmf.fit_transform(user_movie_matrix))\n",
    "\n",
    "    # Get the index of the movie\n",
    "    movie_idx = user_movie_matrix.columns.get_loc(movie_id)\n",
    "\n",
    "    # Extract the movie vector from the NMF matrix\n",
    "    movie_vector = nmf_matrix_normalized[movie_idx, :]\n",
    "\n",
    "    # Compute similarity scores with all movies\n",
    "    similarity_scores = np.dot(nmf_matrix_normalized, movie_vector)\n",
    "\n",
    "    # Get the indices of the most similar movies\n",
    "    recommended_idx = similarity_scores.argsort()[-num_recommendations-1:-1]\n",
    "\n",
    "    # Get the recommended movie ids and titles\n",
    "    recommended_movie_ids = user_movie_matrix.columns[recommended_idx]\n",
    "    recommended_titles = movies_df[movies_df['movieId'].isin(recommended_movie_ids)]['title'].values\n",
    "\n",
    "    return recommended_titles"
   ]
  },
  {
   "cell_type": "code",
   "execution_count": 18,
   "metadata": {
    "id": "xHuJrJw0z_WK"
   },
   "outputs": [],
   "source": [
    "# 5. Performance evaluation function\n",
    "def evaluate_model(predictions, true_ratings):\n",
    "    rmse = mean_squared_error(true_ratings, predictions, squared=False)\n",
    "    mae = mean_absolute_error(true_ratings, predictions)\n",
    "    return rmse, mae"
   ]
  },
  {
   "cell_type": "code",
   "execution_count": 19,
   "metadata": {
    "colab": {
     "base_uri": "https://localhost:8080/"
    },
    "id": "xYtbfZzv0BJk",
    "outputId": "49f256b4-2226-4f0d-e230-960068d4f189"
   },
   "outputs": [
    {
     "name": "stdout",
     "output_type": "stream",
     "text": [
      "\n",
      "SVD 추천 결과\n",
      "[\"Pandora's Box\", 'Galaxy Quest']\n",
      "\n",
      "KNN 추천 결과\n",
      "['Bridge to Terabithia' 'Reign Over Me']\n",
      "\n",
      "NMF 추천 결과\n",
      "['Blade Runner' 'Aliens' 'Pulp Fiction' 'D.E.B.S.']\n"
     ]
    }
   ],
   "source": [
    "# 6. Model evaluation and recommendation results\n",
    "# SVD performance evaluation\n",
    "reader = Reader(rating_scale=(0.5, 5))\n",
    "data = Dataset.load_from_df(ratings[['userId', 'movieId', 'rating']], reader)\n",
    "svd = SVD()\n",
    "\n",
    "print(\"\\nSVD 추천 결과\")\n",
    "print(svd_recommendations(1, ratings, movies))\n",
    "\n",
    "# KNN recommendation results\n",
    "print(\"\\nKNN 추천 결과\")\n",
    "print(knn_recommendations(1, user_movie_matrix, movies))\n",
    "\n",
    "# NMF recommendation results\n",
    "print(\"\\nNMF 추천 결과\")\n",
    "print(nmf_recommendations(1, user_movie_matrix, movies))"
   ]
  },
  {
   "cell_type": "code",
   "execution_count": 20,
   "metadata": {
    "id": "oRt3SPUa0DCh"
   },
   "outputs": [],
   "source": [
    "# 7. Model evaluation across different algorithms\n",
    "def evaluate_models(ratings_df):\n",
    "    reader = Reader(rating_scale=(0.5, 5))\n",
    "    data = Dataset.load_from_df(ratings_df[['userId', 'movieId', 'rating']], reader)\n",
    "\n",
    "    # SVD model evaluation\n",
    "    svd = SVD()\n",
    "    svd_results = cross_validate(svd, data, measures=['RMSE', 'MAE'], cv=5, verbose=True)\n",
    "\n",
    "    # KNN model evaluation\n",
    "    knn = KNNBasic(sim_options={'name': 'cosine', 'user_based': True}, verbose=False)\n",
    "    knn_results = cross_validate(knn, data, measures=['RMSE', 'MAE'], cv=5, verbose=True)\n",
    "\n",
    "    # Surprise NMF model evaluation\n",
    "    nmf = SurpriseNMF(n_factors=20, random_state=42)\n",
    "    nmf_results = cross_validate(nmf, data, measures=['RMSE', 'MAE'], cv=5, verbose=True)\n",
    "\n",
    "    # Results comparison\n",
    "    results_df = pd.DataFrame({\n",
    "        'Model': ['SVD', 'KNN', 'NMF'],\n",
    "        'Mean RMSE': [np.mean(svd_results['test_rmse']),\n",
    "                      np.mean(knn_results['test_rmse']),\n",
    "                      np.mean(nmf_results['test_rmse'])],\n",
    "        'Mean MAE': [np.mean(svd_results['test_mae']),\n",
    "                     np.mean(knn_results['test_mae']),\n",
    "                     np.mean(nmf_results['test_mae'])],\n",
    "        'Fit Time': [np.mean(svd_results['fit_time']),\n",
    "                     np.mean(knn_results['fit_time']),\n",
    "                     np.mean(nmf_results['fit_time'])],\n",
    "        'Test Time': [np.mean(svd_results['test_time']),\n",
    "                      np.mean(knn_results['test_time']),\n",
    "                      np.mean(nmf_results['test_time'])]\n",
    "    })\n",
    "\n",
    "    return results_df"
   ]
  },
  {
   "cell_type": "code",
   "execution_count": 21,
   "metadata": {
    "colab": {
     "base_uri": "https://localhost:8080/"
    },
    "id": "jAXF4WBj0H6w",
    "outputId": "e46c94ae-74b5-4e76-c4be-17cf20e64047"
   },
   "outputs": [
    {
     "name": "stdout",
     "output_type": "stream",
     "text": [
      "Evaluating RMSE, MAE of algorithm SVD on 5 split(s).\n",
      "\n",
      "                  Fold 1  Fold 2  Fold 3  Fold 4  Fold 5  Mean    Std     \n",
      "RMSE (testset)    0.9021  0.8984  0.8986  0.9013  0.8880  0.8977  0.0050  \n",
      "MAE (testset)     0.6931  0.6927  0.6928  0.6933  0.6855  0.6915  0.0030  \n",
      "Fit time          1.36    1.33    1.32    1.33    2.04    1.48    0.28    \n",
      "Test time         0.19    0.11    0.11    0.15    0.18    0.15    0.03    \n",
      "Evaluating RMSE, MAE of algorithm KNNBasic on 5 split(s).\n",
      "\n",
      "                  Fold 1  Fold 2  Fold 3  Fold 4  Fold 5  Mean    Std     \n",
      "RMSE (testset)    1.0007  0.9866  0.9865  0.9970  0.9945  0.9931  0.0057  \n",
      "MAE (testset)     0.7686  0.7656  0.7637  0.7701  0.7676  0.7671  0.0023  \n",
      "Fit time          0.25    0.17    0.17    0.16    0.16    0.18    0.03    \n",
      "Test time         1.56    1.29    1.29    1.22    1.23    1.32    0.12    \n",
      "Evaluating RMSE, MAE of algorithm NMF on 5 split(s).\n",
      "\n",
      "                  Fold 1  Fold 2  Fold 3  Fold 4  Fold 5  Mean    Std     \n",
      "RMSE (testset)    0.9432  0.9511  0.9618  0.9440  0.9466  0.9493  0.0068  \n",
      "MAE (testset)     0.7195  0.7278  0.7300  0.7185  0.7179  0.7227  0.0051  \n",
      "Fit time          2.69    3.78    2.70    2.67    2.68    2.90    0.44    \n",
      "Test time         0.15    0.09    0.09    0.22    0.09    0.13    0.05    \n",
      "  Model  Mean RMSE  Mean MAE  Fit Time  Test Time\n",
      "0   SVD   0.897682  0.691460  1.476211   0.148522\n",
      "1   KNN   0.993070  0.767104  0.183070   1.318073\n",
      "2   NMF   0.949340  0.722732  2.903396   0.127041\n"
     ]
    }
   ],
   "source": [
    "# 8. Execute evaluation\n",
    "evaluation_results = evaluate_models(ratings)\n",
    "print(evaluation_results)"
   ]
  }
 ],
 "metadata": {
  "accelerator": "GPU",
  "colab": {
   "gpuType": "T4",
   "provenance": []
  },
  "kernelspec": {
   "display_name": "Python 3",
   "name": "python3"
  },
  "language_info": {
   "name": "python"
  }
 },
 "nbformat": 4,
 "nbformat_minor": 0
}
